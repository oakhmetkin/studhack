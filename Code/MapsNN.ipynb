{
 "cells": [
  {
   "cell_type": "code",
   "execution_count": 4,
   "metadata": {},
   "outputs": [],
   "source": [
    "import pandas as pd\n",
    "import numpy as np\n",
    "import matplotlib.pyplot as plt\n",
    "%matplotlib inline"
   ]
  },
  {
   "cell_type": "markdown",
   "metadata": {},
   "source": [
    "## Training 5 neural networks for $ Map_i $, i=1,...,5"
   ]
  },
  {
   "cell_type": "code",
   "execution_count": 5,
   "metadata": {},
   "outputs": [],
   "source": [
    "from sklearn.model_selection import train_test_split\n",
    "from sklearn.preprocessing import StandardScaler\n",
    "from sklearn.metrics import mean_squared_error\n",
    "\n",
    "from main import import_dataset_from_file\n",
    "from torch.utils.data import Dataset, DataLoader\n",
    "import torch"
   ]
  },
  {
   "cell_type": "code",
   "execution_count": 6,
   "metadata": {},
   "outputs": [],
   "source": [
    "class RosneftDataset(Dataset):\n",
    "\n",
    "    def __init__(self, X, y) -> None:\n",
    "        self.X = X\n",
    "        self.y = y\n",
    "\n",
    "    def __getitem__(self, idx):\n",
    "        return torch.tensor(self.X[idx]), torch.tensor(self.y[idx]).unsqueeze(0)\n",
    "\n",
    "    def __len__(self):\n",
    "        return len(self.y)"
   ]
  },
  {
   "cell_type": "code",
   "execution_count": 7,
   "metadata": {},
   "outputs": [],
   "source": [
    "import torch.nn as nn"
   ]
  },
  {
   "cell_type": "code",
   "execution_count": 8,
   "metadata": {},
   "outputs": [],
   "source": [
    "class Map(nn.Module):\n",
    "\n",
    "    def __init__(self, hidden_size=15) -> None:\n",
    "        super().__init__()\n",
    "\n",
    "        self.hidden_size = hidden_size\n",
    "\n",
    "        self.linear = nn.Sequential(\n",
    "            nn.Linear(in_features=2, out_features=hidden_size),\n",
    "            nn.BatchNorm1d(hidden_size),\n",
    "            nn.ReLU(),\n",
    "            nn.Linear(in_features=hidden_size, out_features=hidden_size),\n",
    "            nn.ReLU(),\n",
    "            nn.Linear(in_features=hidden_size, out_features=1),\n",
    "        )\n",
    "\n",
    "    def forward(self, x):\n",
    "        # input x: [BATCH_SIZE x 2]\n",
    "        return self.linear(x)"
   ]
  },
  {
   "cell_type": "code",
   "execution_count": 9,
   "metadata": {},
   "outputs": [
    {
     "data": {
      "text/plain": [
       "device(type='cpu')"
      ]
     },
     "execution_count": 9,
     "metadata": {},
     "output_type": "execute_result"
    }
   ],
   "source": [
    "device = torch.device('cuda' if torch.cuda.is_available() else 'cpu')\n",
    "device"
   ]
  },
  {
   "cell_type": "code",
   "execution_count": 10,
   "metadata": {},
   "outputs": [],
   "source": [
    "from tqdm import tqdm\n",
    "\n",
    "\n",
    "losses = None\n",
    "\n",
    "\n",
    "def train(model, criterion, optimizer, epoches, tr_loader, val_loader):\n",
    "    global losses\n",
    "    losses = {\n",
    "        'train': [],\n",
    "        'val': [],\n",
    "    }\n",
    "    \n",
    "    for epoch in range(epoches):\n",
    "\n",
    "        # train\n",
    "        model.train()\n",
    "        train_loss = 0\n",
    "\n",
    "        for X_batch, y_batch in tqdm(tr_loader):\n",
    "            X_batch_cuda = X_batch.to(device)\n",
    "\n",
    "            optimizer.zero_grad()\n",
    "            y_pred = model(X_batch_cuda)\n",
    "            loss = criterion(y_batch.to(device), y_pred)\n",
    "            loss.backward()\n",
    "            optimizer.step()\n",
    "\n",
    "            train_loss += loss.item()**0.5\n",
    "        \n",
    "        losses['train'].append(train_loss / len(tr_loader))\n",
    "        \n",
    "        # val\n",
    "        model.eval()\n",
    "        val_loss = 0\n",
    "\n",
    "        for X_batch, y_batch in tqdm(val_loader):\n",
    "            X_batch_cuda = X_batch.to(device)\n",
    "\n",
    "            with torch.no_grad():\n",
    "                y_pred = model(X_batch_cuda)\n",
    "                loss = criterion(y_batch.to(device), y_pred)\n",
    "\n",
    "            val_loss += loss.item()**0.5\n",
    "        \n",
    "        losses['val'].append(val_loss / len(val_loader))\n",
    "\n",
    "        # show epoch results\n",
    "        print(f'Epoch: {epoch+1}/{epoches}; Train loss: {losses[\"train\"][-1]}; Val loss: {losses[\"val\"][-1]}')"
   ]
  },
  {
   "cell_type": "code",
   "execution_count": 11,
   "metadata": {},
   "outputs": [],
   "source": [
    "maps = [None] * 5\n",
    "scalers = [None] * 5\n",
    "\n",
    "\n",
    "def train_val_map(idx, epoches=1):\n",
    "    # dataframe\n",
    "    map_df = import_dataset_from_file(f\"..\\\\Data\\\\Map_{idx+1}.txt\")\n",
    "    map_df\n",
    "\n",
    "    # train_test_split\n",
    "    cols = ['x', 'y']\n",
    "    X_train, X_test, y_train, y_test = train_test_split(map_df[cols], map_df['z'], test_size=0.2, shuffle=True)\n",
    "    \n",
    "    # scaling\n",
    "    scaler = StandardScaler()\n",
    "    scaled_train = scaler.fit_transform(X_train.values.astype(np.float32))\n",
    "    scaled_test = scaler.transform(X_test.values.astype(np.float32))\n",
    "    scalers[idx] = scaler\n",
    "\n",
    "    # datasets and dataloaders\n",
    "    train_dataset = RosneftDataset(scaled_train, y_train.values.astype(np.float32))\n",
    "    test_dataset = RosneftDataset(scaled_test, y_test.values.astype(np.float32))\n",
    "\n",
    "    train_dataloader = DataLoader(train_dataset, batch_size=128, shuffle=True)\n",
    "    test_dataloader = DataLoader(test_dataset, batch_size=128, shuffle=True)\n",
    "\n",
    "    # model\n",
    "    map = Map().to(device)\n",
    "    criterion = nn.MSELoss()\n",
    "    optimizer = torch.optim.Adam(map.parameters(), lr=1e-3)\n",
    "\n",
    "    # training\n",
    "    train(map, criterion, optimizer, epoches, train_dataloader, test_dataloader)\n",
    "\n",
    "    # validating\n",
    "    pred = map(torch.tensor(scaled_test).to(device)).cpu().detach().numpy()\n",
    "    mse = mean_squared_error(y_test, pred)\n",
    "    print('Validation RMSE:', mse**0.5)\n",
    "\n",
    "    # saving\n",
    "    maps[idx] = map\n",
    "    torch.save(map.state_dict(), f'MapNN_{idx+1}.saved')\n"
   ]
  },
  {
   "cell_type": "code",
   "execution_count": 12,
   "metadata": {},
   "outputs": [
    {
     "name": "stdout",
     "output_type": "stream",
     "text": [
      "Training Map1\n"
     ]
    },
    {
     "name": "stderr",
     "output_type": "stream",
     "text": [
      "100%|██████████| 7479/7479 [00:46<00:00, 161.15it/s]\n",
      "100%|██████████| 1870/1870 [00:07<00:00, 248.77it/s]\n"
     ]
    },
    {
     "name": "stdout",
     "output_type": "stream",
     "text": [
      "Epoch: 1/1; Train loss: 0.014261415110524145; Val loss: 0.009616294063010893\n",
      "Validation RMSE: 0.009674899164298853\n",
      "\n",
      "Training Map2\n"
     ]
    },
    {
     "name": "stderr",
     "output_type": "stream",
     "text": [
      "100%|██████████| 7479/7479 [00:44<00:00, 166.39it/s]\n",
      "100%|██████████| 1870/1870 [00:08<00:00, 227.61it/s]\n"
     ]
    },
    {
     "name": "stdout",
     "output_type": "stream",
     "text": [
      "Epoch: 1/1; Train loss: 0.012711351891788875; Val loss: 0.009529526262540212\n",
      "Validation RMSE: 0.009550505721082696\n",
      "\n",
      "Training Map3\n"
     ]
    },
    {
     "name": "stderr",
     "output_type": "stream",
     "text": [
      "100%|██████████| 7482/7482 [00:51<00:00, 146.23it/s]\n",
      "100%|██████████| 1871/1871 [00:09<00:00, 200.60it/s]\n"
     ]
    },
    {
     "name": "stdout",
     "output_type": "stream",
     "text": [
      "Epoch: 1/3; Train loss: 3.4282093974818966; Val loss: 1.5677119505230415\n"
     ]
    },
    {
     "name": "stderr",
     "output_type": "stream",
     "text": [
      "100%|██████████| 7482/7482 [00:43<00:00, 171.47it/s]\n",
      "100%|██████████| 1871/1871 [00:08<00:00, 227.37it/s]\n"
     ]
    },
    {
     "name": "stdout",
     "output_type": "stream",
     "text": [
      "Epoch: 2/3; Train loss: 1.5954701174238264; Val loss: 1.5548607467934412\n"
     ]
    },
    {
     "name": "stderr",
     "output_type": "stream",
     "text": [
      "100%|██████████| 7482/7482 [00:48<00:00, 153.44it/s]\n",
      "100%|██████████| 1871/1871 [00:08<00:00, 221.68it/s]\n"
     ]
    },
    {
     "name": "stdout",
     "output_type": "stream",
     "text": [
      "Epoch: 3/3; Train loss: 1.5843055835204605; Val loss: 1.5623939138064686\n",
      "Validation RMSE: 1.568614471680574\n",
      "\n",
      "Training Map4\n"
     ]
    },
    {
     "name": "stderr",
     "output_type": "stream",
     "text": [
      "100%|██████████| 7482/7482 [00:47<00:00, 159.07it/s]\n",
      "100%|██████████| 1871/1871 [00:08<00:00, 220.59it/s]\n"
     ]
    },
    {
     "name": "stdout",
     "output_type": "stream",
     "text": [
      "Epoch: 1/3; Train loss: 847.8536460769476; Val loss: 67.95809170323136\n"
     ]
    },
    {
     "name": "stderr",
     "output_type": "stream",
     "text": [
      "100%|██████████| 7482/7482 [00:48<00:00, 155.76it/s]\n",
      "100%|██████████| 1871/1871 [00:08<00:00, 220.58it/s]\n"
     ]
    },
    {
     "name": "stdout",
     "output_type": "stream",
     "text": [
      "Epoch: 2/3; Train loss: 63.59396969481197; Val loss: 57.58228299401968\n"
     ]
    },
    {
     "name": "stderr",
     "output_type": "stream",
     "text": [
      "100%|██████████| 7482/7482 [00:46<00:00, 159.39it/s]\n",
      "100%|██████████| 1871/1871 [00:08<00:00, 218.29it/s]\n"
     ]
    },
    {
     "name": "stdout",
     "output_type": "stream",
     "text": [
      "Epoch: 3/3; Train loss: 56.92251125684435; Val loss: 56.268387328874894\n",
      "Validation RMSE: 56.656887378067466\n",
      "\n",
      "Training Map5\n"
     ]
    },
    {
     "name": "stderr",
     "output_type": "stream",
     "text": [
      "100%|██████████| 7479/7479 [00:48<00:00, 155.73it/s]\n",
      "100%|██████████| 1870/1870 [00:08<00:00, 210.64it/s]"
     ]
    },
    {
     "name": "stdout",
     "output_type": "stream",
     "text": [
      "Epoch: 1/1; Train loss: 0.05277778197244947; Val loss: 0.006609018227411521\n",
      "Validation RMSE: 0.006624040922150767\n",
      "\n"
     ]
    },
    {
     "name": "stderr",
     "output_type": "stream",
     "text": [
      "\n"
     ]
    }
   ],
   "source": [
    "EPOCHES = [1, 1, 3, 3, 1]\n",
    "\n",
    "for i in range(5):\n",
    "    print(f'Training Map{i+1}')\n",
    "    train_val_map(i, epoches=EPOCHES[i])\n",
    "    print()"
   ]
  },
  {
   "cell_type": "code",
   "execution_count": 13,
   "metadata": {},
   "outputs": [
    {
     "name": "stdout",
     "output_type": "stream",
     "text": [
      "[57080.9767305  34365.70094526] [53556016.59630211 29055722.89106974]\n",
      "[57082.08067108 34366.34404761] [53589788.07829565 29066824.58453535]\n",
      "[57080.17631595 34369.18386232] [53560445.06731844 29078077.19462908]\n",
      "[57080.99299975 34363.3525286 ] [53539940.95065048 29064751.62036899]\n",
      "[57074.60889936 34367.25621712] [53551786.85135974 29067356.70088754]\n"
     ]
    }
   ],
   "source": [
    "for scaler in scalers:\n",
    "    print(scaler.mean_, scaler.var_)"
   ]
  },
  {
   "cell_type": "markdown",
   "metadata": {},
   "source": [
    "## Predicting $ map_i $ for pairs (x, y)"
   ]
  },
  {
   "cell_type": "code",
   "execution_count": 14,
   "metadata": {},
   "outputs": [],
   "source": [
    "from main import import_dataset_from_file, export_dataset_to_file"
   ]
  },
  {
   "cell_type": "code",
   "execution_count": 15,
   "metadata": {},
   "outputs": [
    {
     "data": {
      "text/html": [
       "<div>\n",
       "<style scoped>\n",
       "    .dataframe tbody tr th:only-of-type {\n",
       "        vertical-align: middle;\n",
       "    }\n",
       "\n",
       "    .dataframe tbody tr th {\n",
       "        vertical-align: top;\n",
       "    }\n",
       "\n",
       "    .dataframe thead th {\n",
       "        text-align: right;\n",
       "    }\n",
       "</style>\n",
       "<table border=\"1\" class=\"dataframe\">\n",
       "  <thead>\n",
       "    <tr style=\"text-align: right;\">\n",
       "      <th></th>\n",
       "      <th>x</th>\n",
       "      <th>y</th>\n",
       "      <th>z</th>\n",
       "    </tr>\n",
       "  </thead>\n",
       "  <tbody>\n",
       "    <tr>\n",
       "      <th>0</th>\n",
       "      <td>68239.21</td>\n",
       "      <td>24467.0</td>\n",
       "      <td>NaN</td>\n",
       "    </tr>\n",
       "    <tr>\n",
       "      <th>1</th>\n",
       "      <td>68251.71</td>\n",
       "      <td>24467.0</td>\n",
       "      <td>NaN</td>\n",
       "    </tr>\n",
       "    <tr>\n",
       "      <th>2</th>\n",
       "      <td>68264.21</td>\n",
       "      <td>24467.0</td>\n",
       "      <td>NaN</td>\n",
       "    </tr>\n",
       "    <tr>\n",
       "      <th>3</th>\n",
       "      <td>68276.71</td>\n",
       "      <td>24467.0</td>\n",
       "      <td>NaN</td>\n",
       "    </tr>\n",
       "    <tr>\n",
       "      <th>4</th>\n",
       "      <td>68289.21</td>\n",
       "      <td>24467.0</td>\n",
       "      <td>NaN</td>\n",
       "    </tr>\n",
       "    <tr>\n",
       "      <th>...</th>\n",
       "      <td>...</td>\n",
       "      <td>...</td>\n",
       "      <td>...</td>\n",
       "    </tr>\n",
       "    <tr>\n",
       "      <th>1196585</th>\n",
       "      <td>53264.21</td>\n",
       "      <td>46942.0</td>\n",
       "      <td>NaN</td>\n",
       "    </tr>\n",
       "    <tr>\n",
       "      <th>1196586</th>\n",
       "      <td>53276.71</td>\n",
       "      <td>46942.0</td>\n",
       "      <td>NaN</td>\n",
       "    </tr>\n",
       "    <tr>\n",
       "      <th>1196587</th>\n",
       "      <td>53289.21</td>\n",
       "      <td>46942.0</td>\n",
       "      <td>NaN</td>\n",
       "    </tr>\n",
       "    <tr>\n",
       "      <th>1196588</th>\n",
       "      <td>53301.71</td>\n",
       "      <td>46942.0</td>\n",
       "      <td>NaN</td>\n",
       "    </tr>\n",
       "    <tr>\n",
       "      <th>1196589</th>\n",
       "      <td>53314.21</td>\n",
       "      <td>46942.0</td>\n",
       "      <td>NaN</td>\n",
       "    </tr>\n",
       "  </tbody>\n",
       "</table>\n",
       "<p>1196590 rows × 3 columns</p>\n",
       "</div>"
      ],
      "text/plain": [
       "                x        y   z\n",
       "0        68239.21  24467.0 NaN\n",
       "1        68251.71  24467.0 NaN\n",
       "2        68264.21  24467.0 NaN\n",
       "3        68276.71  24467.0 NaN\n",
       "4        68289.21  24467.0 NaN\n",
       "...           ...      ...  ..\n",
       "1196585  53264.21  46942.0 NaN\n",
       "1196586  53276.71  46942.0 NaN\n",
       "1196587  53289.21  46942.0 NaN\n",
       "1196588  53301.71  46942.0 NaN\n",
       "1196589  53314.21  46942.0 NaN\n",
       "\n",
       "[1196590 rows x 3 columns]"
      ]
     },
     "execution_count": 15,
     "metadata": {},
     "output_type": "execute_result"
    }
   ],
   "source": [
    "result_df = import_dataset_from_file('../Data/Result_schedule.txt')\n",
    "result_df"
   ]
  },
  {
   "cell_type": "code",
   "execution_count": 17,
   "metadata": {},
   "outputs": [],
   "source": [
    "xynp = result_df[['x', 'y']].values.astype(np.float32)\n",
    "\n",
    "for i in range(5):\n",
    "    xy = scalers[i].transform(xynp)\n",
    "    xy_tensor = torch.tensor(xy)\n",
    "\n",
    "    maps[i].eval()\n",
    "    with torch.no_grad():\n",
    "        map_pred = maps[i](xy_tensor).cpu().detach().numpy()\n",
    "        \n",
    "    result_df[f'map{i+1}'] = map_pred\n"
   ]
  },
  {
   "cell_type": "code",
   "execution_count": 18,
   "metadata": {},
   "outputs": [
    {
     "data": {
      "text/html": [
       "<div>\n",
       "<style scoped>\n",
       "    .dataframe tbody tr th:only-of-type {\n",
       "        vertical-align: middle;\n",
       "    }\n",
       "\n",
       "    .dataframe tbody tr th {\n",
       "        vertical-align: top;\n",
       "    }\n",
       "\n",
       "    .dataframe thead th {\n",
       "        text-align: right;\n",
       "    }\n",
       "</style>\n",
       "<table border=\"1\" class=\"dataframe\">\n",
       "  <thead>\n",
       "    <tr style=\"text-align: right;\">\n",
       "      <th></th>\n",
       "      <th>x</th>\n",
       "      <th>y</th>\n",
       "      <th>z</th>\n",
       "      <th>map1</th>\n",
       "      <th>map2</th>\n",
       "      <th>map3</th>\n",
       "      <th>map4</th>\n",
       "      <th>map5</th>\n",
       "    </tr>\n",
       "  </thead>\n",
       "  <tbody>\n",
       "    <tr>\n",
       "      <th>0</th>\n",
       "      <td>68239.21</td>\n",
       "      <td>24467.0</td>\n",
       "      <td>NaN</td>\n",
       "      <td>0.157425</td>\n",
       "      <td>0.120834</td>\n",
       "      <td>38.681908</td>\n",
       "      <td>4221.596191</td>\n",
       "      <td>1.672716</td>\n",
       "    </tr>\n",
       "    <tr>\n",
       "      <th>1</th>\n",
       "      <td>68251.71</td>\n",
       "      <td>24467.0</td>\n",
       "      <td>NaN</td>\n",
       "      <td>0.157404</td>\n",
       "      <td>0.120826</td>\n",
       "      <td>38.688210</td>\n",
       "      <td>4221.678711</td>\n",
       "      <td>1.672740</td>\n",
       "    </tr>\n",
       "    <tr>\n",
       "      <th>2</th>\n",
       "      <td>68264.21</td>\n",
       "      <td>24467.0</td>\n",
       "      <td>NaN</td>\n",
       "      <td>0.157384</td>\n",
       "      <td>0.120819</td>\n",
       "      <td>38.694515</td>\n",
       "      <td>4221.762207</td>\n",
       "      <td>1.672764</td>\n",
       "    </tr>\n",
       "    <tr>\n",
       "      <th>3</th>\n",
       "      <td>68276.71</td>\n",
       "      <td>24467.0</td>\n",
       "      <td>NaN</td>\n",
       "      <td>0.157363</td>\n",
       "      <td>0.120811</td>\n",
       "      <td>38.700821</td>\n",
       "      <td>4221.844727</td>\n",
       "      <td>1.672788</td>\n",
       "    </tr>\n",
       "    <tr>\n",
       "      <th>4</th>\n",
       "      <td>68289.21</td>\n",
       "      <td>24467.0</td>\n",
       "      <td>NaN</td>\n",
       "      <td>0.157343</td>\n",
       "      <td>0.120804</td>\n",
       "      <td>38.707130</td>\n",
       "      <td>4221.928223</td>\n",
       "      <td>1.672812</td>\n",
       "    </tr>\n",
       "    <tr>\n",
       "      <th>...</th>\n",
       "      <td>...</td>\n",
       "      <td>...</td>\n",
       "      <td>...</td>\n",
       "      <td>...</td>\n",
       "      <td>...</td>\n",
       "      <td>...</td>\n",
       "      <td>...</td>\n",
       "      <td>...</td>\n",
       "    </tr>\n",
       "    <tr>\n",
       "      <th>1196585</th>\n",
       "      <td>53264.21</td>\n",
       "      <td>46942.0</td>\n",
       "      <td>NaN</td>\n",
       "      <td>0.152270</td>\n",
       "      <td>0.126343</td>\n",
       "      <td>37.392536</td>\n",
       "      <td>4168.096191</td>\n",
       "      <td>1.682565</td>\n",
       "    </tr>\n",
       "    <tr>\n",
       "      <th>1196586</th>\n",
       "      <td>53276.71</td>\n",
       "      <td>46942.0</td>\n",
       "      <td>NaN</td>\n",
       "      <td>0.152260</td>\n",
       "      <td>0.126346</td>\n",
       "      <td>37.399055</td>\n",
       "      <td>4168.264648</td>\n",
       "      <td>1.682557</td>\n",
       "    </tr>\n",
       "    <tr>\n",
       "      <th>1196587</th>\n",
       "      <td>53289.21</td>\n",
       "      <td>46942.0</td>\n",
       "      <td>NaN</td>\n",
       "      <td>0.152250</td>\n",
       "      <td>0.126348</td>\n",
       "      <td>37.405571</td>\n",
       "      <td>4168.434082</td>\n",
       "      <td>1.682550</td>\n",
       "    </tr>\n",
       "    <tr>\n",
       "      <th>1196588</th>\n",
       "      <td>53301.71</td>\n",
       "      <td>46942.0</td>\n",
       "      <td>NaN</td>\n",
       "      <td>0.152241</td>\n",
       "      <td>0.126351</td>\n",
       "      <td>37.412086</td>\n",
       "      <td>4168.602539</td>\n",
       "      <td>1.682543</td>\n",
       "    </tr>\n",
       "    <tr>\n",
       "      <th>1196589</th>\n",
       "      <td>53314.21</td>\n",
       "      <td>46942.0</td>\n",
       "      <td>NaN</td>\n",
       "      <td>0.152231</td>\n",
       "      <td>0.126354</td>\n",
       "      <td>37.418602</td>\n",
       "      <td>4168.771484</td>\n",
       "      <td>1.682535</td>\n",
       "    </tr>\n",
       "  </tbody>\n",
       "</table>\n",
       "<p>1196590 rows × 8 columns</p>\n",
       "</div>"
      ],
      "text/plain": [
       "                x        y   z      map1      map2       map3         map4  \\\n",
       "0        68239.21  24467.0 NaN  0.157425  0.120834  38.681908  4221.596191   \n",
       "1        68251.71  24467.0 NaN  0.157404  0.120826  38.688210  4221.678711   \n",
       "2        68264.21  24467.0 NaN  0.157384  0.120819  38.694515  4221.762207   \n",
       "3        68276.71  24467.0 NaN  0.157363  0.120811  38.700821  4221.844727   \n",
       "4        68289.21  24467.0 NaN  0.157343  0.120804  38.707130  4221.928223   \n",
       "...           ...      ...  ..       ...       ...        ...          ...   \n",
       "1196585  53264.21  46942.0 NaN  0.152270  0.126343  37.392536  4168.096191   \n",
       "1196586  53276.71  46942.0 NaN  0.152260  0.126346  37.399055  4168.264648   \n",
       "1196587  53289.21  46942.0 NaN  0.152250  0.126348  37.405571  4168.434082   \n",
       "1196588  53301.71  46942.0 NaN  0.152241  0.126351  37.412086  4168.602539   \n",
       "1196589  53314.21  46942.0 NaN  0.152231  0.126354  37.418602  4168.771484   \n",
       "\n",
       "             map5  \n",
       "0        1.672716  \n",
       "1        1.672740  \n",
       "2        1.672764  \n",
       "3        1.672788  \n",
       "4        1.672812  \n",
       "...           ...  \n",
       "1196585  1.682565  \n",
       "1196586  1.682557  \n",
       "1196587  1.682550  \n",
       "1196588  1.682543  \n",
       "1196589  1.682535  \n",
       "\n",
       "[1196590 rows x 8 columns]"
      ]
     },
     "execution_count": 18,
     "metadata": {},
     "output_type": "execute_result"
    }
   ],
   "source": [
    "result_df"
   ]
  },
  {
   "cell_type": "code",
   "execution_count": 19,
   "metadata": {},
   "outputs": [],
   "source": [
    "result_df.to_csv('NN_preresults.csv')"
   ]
  },
  {
   "cell_type": "code",
   "execution_count": null,
   "metadata": {},
   "outputs": [],
   "source": []
  }
 ],
 "metadata": {
  "kernelspec": {
   "display_name": "base",
   "language": "python",
   "name": "python3"
  },
  "language_info": {
   "codemirror_mode": {
    "name": "ipython",
    "version": 3
   },
   "file_extension": ".py",
   "mimetype": "text/x-python",
   "name": "python",
   "nbconvert_exporter": "python",
   "pygments_lexer": "ipython3",
   "version": "3.9.13"
  },
  "orig_nbformat": 4
 },
 "nbformat": 4,
 "nbformat_minor": 2
}
