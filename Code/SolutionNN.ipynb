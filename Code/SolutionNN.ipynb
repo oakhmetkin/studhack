{
 "cells": [
  {
   "cell_type": "markdown",
   "metadata": {},
   "source": [
    "# Solution with neural network"
   ]
  },
  {
   "cell_type": "markdown",
   "metadata": {},
   "source": [
    "## Data preprocessing"
   ]
  },
  {
   "cell_type": "code",
   "execution_count": 50,
   "metadata": {},
   "outputs": [],
   "source": [
    "import pandas as pd\n",
    "import numpy as np\n",
    "import matplotlib.pyplot as plt\n",
    "%matplotlib inline"
   ]
  },
  {
   "cell_type": "code",
   "execution_count": 3,
   "metadata": {},
   "outputs": [
    {
     "data": {
      "text/html": [
       "<div>\n",
       "<style scoped>\n",
       "    .dataframe tbody tr th:only-of-type {\n",
       "        vertical-align: middle;\n",
       "    }\n",
       "\n",
       "    .dataframe tbody tr th {\n",
       "        vertical-align: top;\n",
       "    }\n",
       "\n",
       "    .dataframe thead th {\n",
       "        text-align: right;\n",
       "    }\n",
       "</style>\n",
       "<table border=\"1\" class=\"dataframe\">\n",
       "  <thead>\n",
       "    <tr style=\"text-align: right;\">\n",
       "      <th></th>\n",
       "      <th>x</th>\n",
       "      <th>y</th>\n",
       "      <th>map1</th>\n",
       "      <th>map2</th>\n",
       "      <th>map3</th>\n",
       "      <th>map4</th>\n",
       "      <th>map5</th>\n",
       "      <th>F</th>\n",
       "    </tr>\n",
       "  </thead>\n",
       "  <tbody>\n",
       "    <tr>\n",
       "      <th>0</th>\n",
       "      <td>44222.21</td>\n",
       "      <td>35600.90</td>\n",
       "      <td>0.176186</td>\n",
       "      <td>0.126131</td>\n",
       "      <td>41.556516</td>\n",
       "      <td>4041.398236</td>\n",
       "      <td>1.680261</td>\n",
       "      <td>14.974396</td>\n",
       "    </tr>\n",
       "    <tr>\n",
       "      <th>1</th>\n",
       "      <td>60003.40</td>\n",
       "      <td>26172.72</td>\n",
       "      <td>0.149917</td>\n",
       "      <td>0.118628</td>\n",
       "      <td>36.254009</td>\n",
       "      <td>4198.222325</td>\n",
       "      <td>1.680001</td>\n",
       "      <td>14.078868</td>\n",
       "    </tr>\n",
       "    <tr>\n",
       "      <th>2</th>\n",
       "      <td>44300.61</td>\n",
       "      <td>35291.79</td>\n",
       "      <td>0.171378</td>\n",
       "      <td>0.131456</td>\n",
       "      <td>41.683122</td>\n",
       "      <td>4073.275742</td>\n",
       "      <td>1.680756</td>\n",
       "      <td>14.261570</td>\n",
       "    </tr>\n",
       "    <tr>\n",
       "      <th>3</th>\n",
       "      <td>52776.47</td>\n",
       "      <td>33453.18</td>\n",
       "      <td>0.138782</td>\n",
       "      <td>0.132158</td>\n",
       "      <td>37.245744</td>\n",
       "      <td>4294.829957</td>\n",
       "      <td>1.682911</td>\n",
       "      <td>15.347562</td>\n",
       "    </tr>\n",
       "    <tr>\n",
       "      <th>4</th>\n",
       "      <td>49636.39</td>\n",
       "      <td>30697.34</td>\n",
       "      <td>0.143071</td>\n",
       "      <td>0.118760</td>\n",
       "      <td>37.347923</td>\n",
       "      <td>4196.356138</td>\n",
       "      <td>1.678776</td>\n",
       "      <td>14.422570</td>\n",
       "    </tr>\n",
       "    <tr>\n",
       "      <th>...</th>\n",
       "      <td>...</td>\n",
       "      <td>...</td>\n",
       "      <td>...</td>\n",
       "      <td>...</td>\n",
       "      <td>...</td>\n",
       "      <td>...</td>\n",
       "      <td>...</td>\n",
       "      <td>...</td>\n",
       "    </tr>\n",
       "    <tr>\n",
       "      <th>436</th>\n",
       "      <td>65193.40</td>\n",
       "      <td>26832.74</td>\n",
       "      <td>0.156005</td>\n",
       "      <td>0.121542</td>\n",
       "      <td>35.596017</td>\n",
       "      <td>4269.430884</td>\n",
       "      <td>1.671101</td>\n",
       "      <td>9.374795</td>\n",
       "    </tr>\n",
       "    <tr>\n",
       "      <th>437</th>\n",
       "      <td>50022.04</td>\n",
       "      <td>40606.42</td>\n",
       "      <td>0.163861</td>\n",
       "      <td>0.137037</td>\n",
       "      <td>41.562755</td>\n",
       "      <td>4172.894372</td>\n",
       "      <td>1.670731</td>\n",
       "      <td>7.636603</td>\n",
       "    </tr>\n",
       "    <tr>\n",
       "      <th>438</th>\n",
       "      <td>43745.18</td>\n",
       "      <td>35114.25</td>\n",
       "      <td>0.177447</td>\n",
       "      <td>0.120267</td>\n",
       "      <td>41.853524</td>\n",
       "      <td>4032.878957</td>\n",
       "      <td>1.678893</td>\n",
       "      <td>14.622497</td>\n",
       "    </tr>\n",
       "    <tr>\n",
       "      <th>439</th>\n",
       "      <td>71483.43</td>\n",
       "      <td>25152.76</td>\n",
       "      <td>0.149991</td>\n",
       "      <td>0.118253</td>\n",
       "      <td>41.093785</td>\n",
       "      <td>4178.472915</td>\n",
       "      <td>1.678914</td>\n",
       "      <td>11.014532</td>\n",
       "    </tr>\n",
       "    <tr>\n",
       "      <th>440</th>\n",
       "      <td>51554.73</td>\n",
       "      <td>46308.47</td>\n",
       "      <td>0.159520</td>\n",
       "      <td>0.127075</td>\n",
       "      <td>36.493162</td>\n",
       "      <td>4176.853235</td>\n",
       "      <td>1.677401</td>\n",
       "      <td>16.902573</td>\n",
       "    </tr>\n",
       "  </tbody>\n",
       "</table>\n",
       "<p>441 rows × 8 columns</p>\n",
       "</div>"
      ],
      "text/plain": [
       "            x         y      map1      map2       map3         map4      map5  \\\n",
       "0    44222.21  35600.90  0.176186  0.126131  41.556516  4041.398236  1.680261   \n",
       "1    60003.40  26172.72  0.149917  0.118628  36.254009  4198.222325  1.680001   \n",
       "2    44300.61  35291.79  0.171378  0.131456  41.683122  4073.275742  1.680756   \n",
       "3    52776.47  33453.18  0.138782  0.132158  37.245744  4294.829957  1.682911   \n",
       "4    49636.39  30697.34  0.143071  0.118760  37.347923  4196.356138  1.678776   \n",
       "..        ...       ...       ...       ...        ...          ...       ...   \n",
       "436  65193.40  26832.74  0.156005  0.121542  35.596017  4269.430884  1.671101   \n",
       "437  50022.04  40606.42  0.163861  0.137037  41.562755  4172.894372  1.670731   \n",
       "438  43745.18  35114.25  0.177447  0.120267  41.853524  4032.878957  1.678893   \n",
       "439  71483.43  25152.76  0.149991  0.118253  41.093785  4178.472915  1.678914   \n",
       "440  51554.73  46308.47  0.159520  0.127075  36.493162  4176.853235  1.677401   \n",
       "\n",
       "             F  \n",
       "0    14.974396  \n",
       "1    14.078868  \n",
       "2    14.261570  \n",
       "3    15.347562  \n",
       "4    14.422570  \n",
       "..         ...  \n",
       "436   9.374795  \n",
       "437   7.636603  \n",
       "438  14.622497  \n",
       "439  11.014532  \n",
       "440  16.902573  \n",
       "\n",
       "[441 rows x 8 columns]"
      ]
     },
     "execution_count": 3,
     "metadata": {},
     "output_type": "execute_result"
    }
   ],
   "source": [
    "df = pd.read_csv('../Data/new_dataset.csv', index_col=0)\n",
    "df"
   ]
  },
  {
   "cell_type": "code",
   "execution_count": 4,
   "metadata": {},
   "outputs": [],
   "source": [
    "from sklearn.model_selection import train_test_split"
   ]
  },
  {
   "cell_type": "code",
   "execution_count": 9,
   "metadata": {},
   "outputs": [
    {
     "data": {
      "text/plain": [
       "(352, 89)"
      ]
     },
     "execution_count": 9,
     "metadata": {},
     "output_type": "execute_result"
    }
   ],
   "source": [
    "cols = df.columns.tolist()\n",
    "cols.remove('F')\n",
    "X_train, X_test, y_train, y_test = train_test_split(df[cols], df['F'], test_size=0.2, shuffle=True)\n",
    "\n",
    "len(X_train), len(X_test)"
   ]
  },
  {
   "cell_type": "code",
   "execution_count": 86,
   "metadata": {},
   "outputs": [
    {
     "data": {
      "image/png": "[encoded data removed]",
      "text/plain": [
       "<Figure size 1200x700 with 9 Axes>"
      ]
     },
     "metadata": {},
     "output_type": "display_data"
    }
   ],
   "source": [
    "X_train.hist(figsize=(12, 7), bins=25)\n",
    "None"
   ]
  },
  {
   "cell_type": "code",
   "execution_count": 83,
   "metadata": {},
   "outputs": [
    {
     "data": {
      "image/png": "[encoded data removed]",
      "text/plain": [
       "<Figure size 640x480 with 1 Axes>"
      ]
     },
     "metadata": {},
     "output_type": "display_data"
    }
   ],
   "source": [
    "y_train.hist(bins=25)\n",
    "None"
   ]
  },
  {
   "cell_type": "code",
   "execution_count": 6,
   "metadata": {},
   "outputs": [
    {
     "data": {
      "text/plain": [
       "(array([5.04713745e+04, 3.32926463e+04, 1.66879156e-01, 1.25748919e-01,\n",
       "        3.86486264e+01, 4.09587500e+03, 1.67768414e+00, 1.30468967e+01]),\n",
       " array([3.05083131e+07, 4.98456562e+06, 1.76380034e-04, 1.09730429e-04,\n",
       "        5.14467965e+00, 7.07983824e+03, 1.90033974e-05, 8.06553595e+00]))"
      ]
     },
     "execution_count": 6,
     "metadata": {},
     "output_type": "execute_result"
    }
   ],
   "source": [
    "from sklearn.preprocessing import StandardScaler\n",
    "\n",
    "scaler = StandardScaler()\n",
    "scaled_train = scaler.fit_transform(X_train.values.astype(np.float32))\n",
    "\n",
    "scaler.mean_, scaler.var_"
   ]
  },
  {
   "cell_type": "markdown",
   "metadata": {},
   "source": [
    "## Datasets & Dataloaders"
   ]
  },
  {
   "cell_type": "code",
   "execution_count": 17,
   "metadata": {},
   "outputs": [],
   "source": [
    "from torch.utils.data import Dataset, DataLoader\n",
    "import torch"
   ]
  },
  {
   "cell_type": "code",
   "execution_count": 32,
   "metadata": {},
   "outputs": [],
   "source": [
    "class RosneftDataset(Dataset):\n",
    "\n",
    "    def __init__(self, X, y) -> None:\n",
    "        self.X = X.values.astype(np.float32)\n",
    "        self.y = y.values.astype(np.float32)\n",
    "\n",
    "    def __getitem__(self, idx):\n",
    "        return torch.tensor(self.X[idx]), torch.tensor(self.y[idx]).unsqueeze(0)\n",
    "\n",
    "    def __len__(self):\n",
    "        return len(self.y)"
   ]
  },
  {
   "cell_type": "code",
   "execution_count": 33,
   "metadata": {},
   "outputs": [],
   "source": [
    "train_dataset = RosneftDataset(X_train, y_train)\n",
    "test_dataset = RosneftDataset(X_test, y_test)\n",
    "\n",
    "train_dataloader = DataLoader(train_dataset, batch_size=8, shuffle=True)\n",
    "test_dataloader = DataLoader(test_dataset, batch_size=8, shuffle=True)"
   ]
  },
  {
   "cell_type": "markdown",
   "metadata": {},
   "source": [
    "## Model architecture"
   ]
  },
  {
   "cell_type": "code",
   "execution_count": 34,
   "metadata": {},
   "outputs": [],
   "source": [
    "import torch.nn as nn"
   ]
  },
  {
   "cell_type": "code",
   "execution_count": 35,
   "metadata": {},
   "outputs": [],
   "source": [
    "class RosneftMLP(nn.Module):\n",
    "\n",
    "    def __init__(self, hidden_size=10) -> None:\n",
    "        super().__init__()\n",
    "\n",
    "        self.hidden_size = hidden_size\n",
    "\n",
    "        self.linear = nn.Sequential(\n",
    "            nn.Linear(in_features=7, out_features=hidden_size),\n",
    "            nn.ReLU(),\n",
    "            nn.Linear(in_features=hidden_size, out_features=1),\n",
    "        )\n",
    "\n",
    "    def forward(self, x):\n",
    "        # input x: [BATCH_SIZE x 7]\n",
    "        return self.linear(x)"
   ]
  },
  {
   "cell_type": "code",
   "execution_count": 36,
   "metadata": {},
   "outputs": [
    {
     "data": {
      "text/plain": [
       "device(type='cpu')"
      ]
     },
     "execution_count": 36,
     "metadata": {},
     "output_type": "execute_result"
    }
   ],
   "source": [
    "device = torch.device('cuda' if torch.cuda.is_available() else 'cpu')\n",
    "device"
   ]
  },
  {
   "cell_type": "code",
   "execution_count": 131,
   "metadata": {},
   "outputs": [],
   "source": [
    "losses = None\n",
    "\n",
    "\n",
    "def train(model, criterion, optimizer, epoches, tr_loader, val_loader):\n",
    "    global losses\n",
    "    losses = {\n",
    "        'train': [],\n",
    "        'val': [],\n",
    "    }\n",
    "    \n",
    "    for epoch in range(epoches):\n",
    "\n",
    "        # train\n",
    "        model.train()\n",
    "        train_loss = 0\n",
    "\n",
    "        for X_batch, y_batch in tr_loader:\n",
    "            X_batch_cuda = X_batch.to(device)\n",
    "\n",
    "            optimizer.zero_grad()\n",
    "            y_pred = model(X_batch_cuda)\n",
    "            loss = criterion(y_batch.to(device), y_pred)\n",
    "            loss.backward()\n",
    "            optimizer.step()\n",
    "\n",
    "            train_loss += loss.item()**0.5\n",
    "        \n",
    "        losses['train'].append(train_loss / len(tr_loader))\n",
    "        \n",
    "        # val\n",
    "        model.eval()\n",
    "        val_loss = 0\n",
    "\n",
    "        for X_batch, y_batch in val_loader:\n",
    "            X_batch_cuda = X_batch.to(device)\n",
    "\n",
    "            with torch.no_grad():\n",
    "                y_pred = model(X_batch_cuda)\n",
    "                loss = criterion(y_batch.to(device), y_pred)\n",
    "\n",
    "            val_loss += loss.item()**0.5\n",
    "        \n",
    "        losses['val'].append(val_loss / len(val_loader))\n",
    "\n",
    "        # show epoch results\n",
    "        print(f'Epoch: {epoch+1}/{epoches}; Train loss: {losses[\"train\"][-1]}; Val loss: {losses[\"val\"][-1]}')"
   ]
  },
  {
   "cell_type": "code",
   "execution_count": 132,
   "metadata": {},
   "outputs": [],
   "source": [
    "model = RosneftMLP().to(device)\n",
    "\n",
    "epoches = 100\n",
    "criterion = nn.MSELoss()\n",
    "optimizer = torch.optim.Adam(model.parameters(), lr=3e-4)"
   ]
  },
  {
   "cell_type": "code",
   "execution_count": 133,
   "metadata": {},
   "outputs": [
    {
     "name": "stdout",
     "output_type": "stream",
     "text": [
      "Epoch: 1/100; Train loss: 1336.4364422361216; Val loss: 619.140150686807\n",
      "Epoch: 2/100; Train loss: 718.5081039392651; Val loss: 538.4790456625094\n",
      "Epoch: 3/100; Train loss: 677.2747523194247; Val loss: 501.687306392399\n",
      "Epoch: 4/100; Train loss: 616.6244523214767; Val loss: 473.6600444627559\n",
      "Epoch: 5/100; Train loss: 582.0659094729888; Val loss: 464.34371881421544\n",
      "Epoch: 6/100; Train loss: 555.9553818195141; Val loss: 414.7798752774451\n",
      "Epoch: 7/100; Train loss: 523.7555507006292; Val loss: 402.0911916410257\n",
      "Epoch: 8/100; Train loss: 493.32996356776215; Val loss: 384.5269413886637\n",
      "Epoch: 9/100; Train loss: 470.8991415128657; Val loss: 352.3032614290584\n",
      "Epoch: 10/100; Train loss: 445.82790086117143; Val loss: 352.646750234212\n",
      "Epoch: 11/100; Train loss: 422.82014691081037; Val loss: 336.64423202705524\n",
      "Epoch: 12/100; Train loss: 413.62597280239135; Val loss: 333.4812137486545\n",
      "Epoch: 13/100; Train loss: 399.07810348831896; Val loss: 287.16059089591056\n",
      "Epoch: 14/100; Train loss: 386.28626023370174; Val loss: 315.3653359009929\n",
      "Epoch: 15/100; Train loss: 370.87187028753937; Val loss: 274.82708062574466\n",
      "Epoch: 16/100; Train loss: 369.0664145309187; Val loss: 269.26278050079515\n",
      "Epoch: 17/100; Train loss: 356.1345878710497; Val loss: 300.32840750233123\n",
      "Epoch: 18/100; Train loss: 344.27954692686217; Val loss: 265.60435594893346\n",
      "Epoch: 19/100; Train loss: 339.11315847549236; Val loss: 263.60736210028386\n",
      "Epoch: 20/100; Train loss: 327.94183510263315; Val loss: 239.17806925838025\n",
      "Epoch: 21/100; Train loss: 317.30128292662727; Val loss: 262.04112434741154\n",
      "Epoch: 22/100; Train loss: 305.2320842263643; Val loss: 220.85062697532564\n",
      "Epoch: 23/100; Train loss: 296.8522451865171; Val loss: 242.3186545472059\n",
      "Epoch: 24/100; Train loss: 288.6971606107738; Val loss: 215.01321040905384\n",
      "Epoch: 25/100; Train loss: 281.8902996728727; Val loss: 203.87668209519111\n",
      "Epoch: 26/100; Train loss: 274.4278911808105; Val loss: 212.1286154616804\n",
      "Epoch: 27/100; Train loss: 259.70877149183195; Val loss: 224.710070125962\n",
      "Epoch: 28/100; Train loss: 255.0218148674491; Val loss: 204.35769304043222\n",
      "Epoch: 29/100; Train loss: 240.90423697337863; Val loss: 181.39094890174024\n",
      "Epoch: 30/100; Train loss: 237.98048496551152; Val loss: 174.23534389594786\n",
      "Epoch: 31/100; Train loss: 227.3671019027571; Val loss: 185.6257564609763\n",
      "Epoch: 32/100; Train loss: 220.23630993819003; Val loss: 169.6915429672037\n",
      "Epoch: 33/100; Train loss: 212.98405125295693; Val loss: 160.14494911454133\n",
      "Epoch: 34/100; Train loss: 205.9643411985003; Val loss: 165.33839609611957\n",
      "Epoch: 35/100; Train loss: 197.69893185282498; Val loss: 146.33679450679\n",
      "Epoch: 36/100; Train loss: 190.89723910147256; Val loss: 150.33364424271159\n",
      "Epoch: 37/100; Train loss: 180.00677750110103; Val loss: 132.76286079568746\n",
      "Epoch: 38/100; Train loss: 174.16235424769567; Val loss: 137.4523077982725\n",
      "Epoch: 39/100; Train loss: 165.201030193914; Val loss: 132.29418474444702\n",
      "Epoch: 40/100; Train loss: 162.8898096285049; Val loss: 114.70754093070148\n",
      "Epoch: 41/100; Train loss: 152.88839939707887; Val loss: 116.77326118410654\n",
      "Epoch: 42/100; Train loss: 147.5889119405582; Val loss: 110.29236341490207\n",
      "Epoch: 43/100; Train loss: 141.64006374242012; Val loss: 101.52419479091587\n",
      "Epoch: 44/100; Train loss: 134.3911620146187; Val loss: 100.74913643475371\n",
      "Epoch: 45/100; Train loss: 128.63529933506354; Val loss: 100.91556116150502\n",
      "Epoch: 46/100; Train loss: 124.40998420464602; Val loss: 91.16661555338635\n",
      "Epoch: 47/100; Train loss: 114.35405126365768; Val loss: 83.75026672761139\n",
      "Epoch: 48/100; Train loss: 111.48668682831459; Val loss: 85.13687640519026\n",
      "Epoch: 49/100; Train loss: 104.09459212663234; Val loss: 76.80725975751079\n",
      "Epoch: 50/100; Train loss: 98.36161456040348; Val loss: 76.12775359700002\n",
      "Epoch: 51/100; Train loss: 93.37669911810862; Val loss: 75.14464082011722\n",
      "Epoch: 52/100; Train loss: 86.97931141795854; Val loss: 70.11093714761539\n",
      "Epoch: 53/100; Train loss: 82.94425176540028; Val loss: 63.62784021483486\n",
      "Epoch: 54/100; Train loss: 76.82061559688918; Val loss: 59.353515128978465\n",
      "Epoch: 55/100; Train loss: 71.82884060119041; Val loss: 58.25038604091939\n",
      "Epoch: 56/100; Train loss: 67.07707656406332; Val loss: 52.698769356264705\n",
      "Epoch: 57/100; Train loss: 63.075987394629095; Val loss: 45.15677334896389\n",
      "Epoch: 58/100; Train loss: 57.0773077576288; Val loss: 52.9691929695511\n",
      "Epoch: 59/100; Train loss: 54.621375206215546; Val loss: 41.92492135177019\n",
      "Epoch: 60/100; Train loss: 51.05654288722619; Val loss: 36.40959610104208\n",
      "Epoch: 61/100; Train loss: 46.240576088117706; Val loss: 33.09445997070051\n",
      "Epoch: 62/100; Train loss: 42.431602073993744; Val loss: 31.927782793543756\n",
      "Epoch: 63/100; Train loss: 40.31844777909045; Val loss: 31.398191956276364\n",
      "Epoch: 64/100; Train loss: 35.80963686419079; Val loss: 27.21012695577343\n",
      "Epoch: 65/100; Train loss: 33.050458782003204; Val loss: 24.860545200281397\n",
      "Epoch: 66/100; Train loss: 30.329845003779326; Val loss: 25.263687960957792\n",
      "Epoch: 67/100; Train loss: 28.11521516605346; Val loss: 22.69652233725776\n",
      "Epoch: 68/100; Train loss: 24.532854710602166; Val loss: 17.764897071560195\n",
      "Epoch: 69/100; Train loss: 22.77173807157752; Val loss: 17.136959801387416\n",
      "Epoch: 70/100; Train loss: 20.573650678593385; Val loss: 13.924083468686545\n",
      "Epoch: 71/100; Train loss: 18.715286053151907; Val loss: 12.926357052446408\n",
      "Epoch: 72/100; Train loss: 16.6825651497886; Val loss: 11.528169870538235\n",
      "Epoch: 73/100; Train loss: 14.8875980775624; Val loss: 10.822418163303938\n",
      "Epoch: 74/100; Train loss: 13.336854537675713; Val loss: 9.538834302918243\n",
      "Epoch: 75/100; Train loss: 11.962152180799448; Val loss: 9.636387230558727\n",
      "Epoch: 76/100; Train loss: 10.672529810129424; Val loss: 8.182354862798924\n",
      "Epoch: 77/100; Train loss: 9.557999346590893; Val loss: 6.918028744542066\n",
      "Epoch: 78/100; Train loss: 8.696177183189914; Val loss: 6.306652814525812\n",
      "Epoch: 79/100; Train loss: 7.568173410455781; Val loss: 6.044231638068623\n",
      "Epoch: 80/100; Train loss: 6.665555982693539; Val loss: 5.133423772435773\n",
      "Epoch: 81/100; Train loss: 6.053966145016641; Val loss: 4.473723646298966\n",
      "Epoch: 82/100; Train loss: 5.416467666457706; Val loss: 4.249657289008482\n",
      "Epoch: 83/100; Train loss: 4.906693058079396; Val loss: 3.534870714499877\n",
      "Epoch: 84/100; Train loss: 4.454448253752674; Val loss: 3.6188728175148\n",
      "Epoch: 85/100; Train loss: 4.181020077357154; Val loss: 3.4107131853044095\n",
      "Epoch: 86/100; Train loss: 3.791992347326416; Val loss: 3.1513154607840588\n",
      "Epoch: 87/100; Train loss: 3.6003233811958752; Val loss: 2.9311926960172876\n",
      "Epoch: 88/100; Train loss: 3.3977822710408985; Val loss: 2.823129206276912\n",
      "Epoch: 89/100; Train loss: 3.220557247372778; Val loss: 2.7431587301172775\n",
      "Epoch: 90/100; Train loss: 3.0565965350738242; Val loss: 2.605164392564467\n",
      "Epoch: 91/100; Train loss: 3.0555756880064577; Val loss: 2.4377956196736634\n",
      "Epoch: 92/100; Train loss: 2.972788307275076; Val loss: 2.503845110163694\n",
      "Epoch: 93/100; Train loss: 2.8940196047387574; Val loss: 2.423272865811421\n",
      "Epoch: 94/100; Train loss: 2.8646378034148765; Val loss: 2.660977772499038\n",
      "Epoch: 95/100; Train loss: 2.830897376530587; Val loss: 2.640988536157366\n",
      "Epoch: 96/100; Train loss: 2.8560933037115235; Val loss: 2.3561233983762326\n",
      "Epoch: 97/100; Train loss: 2.8916005848725312; Val loss: 2.698031271282234\n",
      "Epoch: 98/100; Train loss: 2.9037234209426863; Val loss: 2.512397524451096\n",
      "Epoch: 99/100; Train loss: 2.8959471930229355; Val loss: 2.4969132746650997\n",
      "Epoch: 100/100; Train loss: 2.8091163344529586; Val loss: 2.3895236530273465\n"
     ]
    }
   ],
   "source": [
    "train(model, criterion, optimizer, epoches, train_dataloader, test_dataloader)"
   ]
  },
  {
   "cell_type": "code",
   "execution_count": 134,
   "metadata": {},
   "outputs": [
    {
     "data": {
      "text/plain": [
       "<matplotlib.legend.Legend at 0x273989e5e80>"
      ]
     },
     "execution_count": 134,
     "metadata": {},
     "output_type": "execute_result"
    },
    {
     "data": {
      "image/png": "[encoded data removed]",
      "text/plain": [
       "<Figure size 640x480 with 1 Axes>"
      ]
     },
     "metadata": {},
     "output_type": "display_data"
    }
   ],
   "source": [
    "sk = 5 # skip\n",
    "epoches_range = list(range(sk + 1, len(losses['train']) + 1))\n",
    "\n",
    "plt.plot(epoches_range, losses['train'][sk:], label='train')\n",
    "plt.plot(epoches_range, losses['val'][sk:], label='val')\n",
    "plt.legend()"
   ]
  },
  {
   "cell_type": "markdown",
   "metadata": {},
   "source": [
    "## Tests"
   ]
  },
  {
   "cell_type": "code",
   "execution_count": 139,
   "metadata": {},
   "outputs": [
    {
     "name": "stdout",
     "output_type": "stream",
     "text": [
      "ground truth:\n",
      "tensor([[14.7480],\n",
      "        [15.8897],\n",
      "        [15.6922],\n",
      "        [ 8.4704],\n",
      "        [14.9857],\n",
      "        [10.4999],\n",
      "        [12.0792],\n",
      "        [16.2322]])\n",
      "prediction:\n",
      "tensor([[13.2841],\n",
      "        [10.4086],\n",
      "        [13.5879],\n",
      "        [11.9135],\n",
      "        [11.9423],\n",
      "        [12.0974],\n",
      "        [11.2564],\n",
      "        [13.2470]])\n"
     ]
    }
   ],
   "source": [
    "X_batch, y_batch = next(iter(test_dataloader))\n",
    "model.eval()\n",
    "\n",
    "with torch.no_grad():\n",
    "    y_pred = model(X_batch.to(device))\n",
    "\n",
    "\n",
    "print('ground truth:')\n",
    "print(y_batch)\n",
    "print('prediction:')\n",
    "print(y_pred)"
   ]
  },
  {
   "cell_type": "markdown",
   "metadata": {},
   "source": [
    "## Saving"
   ]
  },
  {
   "cell_type": "code",
   "execution_count": 140,
   "metadata": {},
   "outputs": [],
   "source": [
    "torch.save(model.state_dict(), 'nn_weights.saved')"
   ]
  },
  {
   "cell_type": "code",
   "execution_count": null,
   "metadata": {},
   "outputs": [],
   "source": []
  }
 ],
 "metadata": {
  "kernelspec": {
   "display_name": "base",
   "language": "python",
   "name": "python3"
  },
  "language_info": {
   "codemirror_mode": {
    "name": "ipython",
    "version": 3
   },
   "file_extension": ".py",
   "mimetype": "text/x-python",
   "name": "python",
   "nbconvert_exporter": "python",
   "pygments_lexer": "ipython3",
   "version": "3.9.13"
  },
  "orig_nbformat": 4
 },
 "nbformat": 4,
 "nbformat_minor": 2
}
