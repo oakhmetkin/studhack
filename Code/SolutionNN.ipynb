{
 "cells": [
  {
   "cell_type": "markdown",
   "metadata": {},
   "source": [
    "# Solution with neural network"
   ]
  },
  {
   "cell_type": "markdown",
   "metadata": {},
   "source": [
    "## Data preprocessing"
   ]
  },
  {
   "cell_type": "code",
   "execution_count": 1,
   "metadata": {},
   "outputs": [],
   "source": [
    "import pandas as pd\n",
    "import numpy as np\n",
    "import matplotlib.pyplot as plt\n",
    "%matplotlib inline"
   ]
  },
  {
   "cell_type": "code",
   "execution_count": 2,
   "metadata": {},
   "outputs": [
    {
     "data": {
      "text/html": [
       "<div>\n",
       "<style scoped>\n",
       "    .dataframe tbody tr th:only-of-type {\n",
       "        vertical-align: middle;\n",
       "    }\n",
       "\n",
       "    .dataframe tbody tr th {\n",
       "        vertical-align: top;\n",
       "    }\n",
       "\n",
       "    .dataframe thead th {\n",
       "        text-align: right;\n",
       "    }\n",
       "</style>\n",
       "<table border=\"1\" class=\"dataframe\">\n",
       "  <thead>\n",
       "    <tr style=\"text-align: right;\">\n",
       "      <th></th>\n",
       "      <th>x</th>\n",
       "      <th>y</th>\n",
       "      <th>map1</th>\n",
       "      <th>map2</th>\n",
       "      <th>map3</th>\n",
       "      <th>map4</th>\n",
       "      <th>map5</th>\n",
       "      <th>F</th>\n",
       "    </tr>\n",
       "  </thead>\n",
       "  <tbody>\n",
       "    <tr>\n",
       "      <th>0</th>\n",
       "      <td>44222.21</td>\n",
       "      <td>35600.90</td>\n",
       "      <td>0.176186</td>\n",
       "      <td>0.126131</td>\n",
       "      <td>41.556516</td>\n",
       "      <td>4041.398236</td>\n",
       "      <td>1.680261</td>\n",
       "      <td>14.974396</td>\n",
       "    </tr>\n",
       "    <tr>\n",
       "      <th>1</th>\n",
       "      <td>60003.40</td>\n",
       "      <td>26172.72</td>\n",
       "      <td>0.149917</td>\n",
       "      <td>0.118628</td>\n",
       "      <td>36.254009</td>\n",
       "      <td>4198.222325</td>\n",
       "      <td>1.680001</td>\n",
       "      <td>14.078868</td>\n",
       "    </tr>\n",
       "    <tr>\n",
       "      <th>2</th>\n",
       "      <td>44300.61</td>\n",
       "      <td>35291.79</td>\n",
       "      <td>0.171378</td>\n",
       "      <td>0.131456</td>\n",
       "      <td>41.683122</td>\n",
       "      <td>4073.275742</td>\n",
       "      <td>1.680756</td>\n",
       "      <td>14.261570</td>\n",
       "    </tr>\n",
       "    <tr>\n",
       "      <th>3</th>\n",
       "      <td>52776.47</td>\n",
       "      <td>33453.18</td>\n",
       "      <td>0.138782</td>\n",
       "      <td>0.132158</td>\n",
       "      <td>37.245744</td>\n",
       "      <td>4294.829957</td>\n",
       "      <td>1.682911</td>\n",
       "      <td>15.347562</td>\n",
       "    </tr>\n",
       "    <tr>\n",
       "      <th>4</th>\n",
       "      <td>49636.39</td>\n",
       "      <td>30697.34</td>\n",
       "      <td>0.143071</td>\n",
       "      <td>0.118760</td>\n",
       "      <td>37.347923</td>\n",
       "      <td>4196.356138</td>\n",
       "      <td>1.678776</td>\n",
       "      <td>14.422570</td>\n",
       "    </tr>\n",
       "    <tr>\n",
       "      <th>...</th>\n",
       "      <td>...</td>\n",
       "      <td>...</td>\n",
       "      <td>...</td>\n",
       "      <td>...</td>\n",
       "      <td>...</td>\n",
       "      <td>...</td>\n",
       "      <td>...</td>\n",
       "      <td>...</td>\n",
       "    </tr>\n",
       "    <tr>\n",
       "      <th>436</th>\n",
       "      <td>65193.40</td>\n",
       "      <td>26832.74</td>\n",
       "      <td>0.156005</td>\n",
       "      <td>0.121542</td>\n",
       "      <td>35.596017</td>\n",
       "      <td>4269.430884</td>\n",
       "      <td>1.671101</td>\n",
       "      <td>9.374795</td>\n",
       "    </tr>\n",
       "    <tr>\n",
       "      <th>437</th>\n",
       "      <td>50022.04</td>\n",
       "      <td>40606.42</td>\n",
       "      <td>0.163861</td>\n",
       "      <td>0.137037</td>\n",
       "      <td>41.562755</td>\n",
       "      <td>4172.894372</td>\n",
       "      <td>1.670731</td>\n",
       "      <td>7.636603</td>\n",
       "    </tr>\n",
       "    <tr>\n",
       "      <th>438</th>\n",
       "      <td>43745.18</td>\n",
       "      <td>35114.25</td>\n",
       "      <td>0.177447</td>\n",
       "      <td>0.120267</td>\n",
       "      <td>41.853524</td>\n",
       "      <td>4032.878957</td>\n",
       "      <td>1.678893</td>\n",
       "      <td>14.622497</td>\n",
       "    </tr>\n",
       "    <tr>\n",
       "      <th>439</th>\n",
       "      <td>71483.43</td>\n",
       "      <td>25152.76</td>\n",
       "      <td>0.149991</td>\n",
       "      <td>0.118253</td>\n",
       "      <td>41.093785</td>\n",
       "      <td>4178.472915</td>\n",
       "      <td>1.678914</td>\n",
       "      <td>11.014532</td>\n",
       "    </tr>\n",
       "    <tr>\n",
       "      <th>440</th>\n",
       "      <td>51554.73</td>\n",
       "      <td>46308.47</td>\n",
       "      <td>0.159520</td>\n",
       "      <td>0.127075</td>\n",
       "      <td>36.493162</td>\n",
       "      <td>4176.853235</td>\n",
       "      <td>1.677401</td>\n",
       "      <td>16.902573</td>\n",
       "    </tr>\n",
       "  </tbody>\n",
       "</table>\n",
       "<p>441 rows × 8 columns</p>\n",
       "</div>"
      ],
      "text/plain": [
       "            x         y      map1      map2       map3         map4      map5  \\\n",
       "0    44222.21  35600.90  0.176186  0.126131  41.556516  4041.398236  1.680261   \n",
       "1    60003.40  26172.72  0.149917  0.118628  36.254009  4198.222325  1.680001   \n",
       "2    44300.61  35291.79  0.171378  0.131456  41.683122  4073.275742  1.680756   \n",
       "3    52776.47  33453.18  0.138782  0.132158  37.245744  4294.829957  1.682911   \n",
       "4    49636.39  30697.34  0.143071  0.118760  37.347923  4196.356138  1.678776   \n",
       "..        ...       ...       ...       ...        ...          ...       ...   \n",
       "436  65193.40  26832.74  0.156005  0.121542  35.596017  4269.430884  1.671101   \n",
       "437  50022.04  40606.42  0.163861  0.137037  41.562755  4172.894372  1.670731   \n",
       "438  43745.18  35114.25  0.177447  0.120267  41.853524  4032.878957  1.678893   \n",
       "439  71483.43  25152.76  0.149991  0.118253  41.093785  4178.472915  1.678914   \n",
       "440  51554.73  46308.47  0.159520  0.127075  36.493162  4176.853235  1.677401   \n",
       "\n",
       "             F  \n",
       "0    14.974396  \n",
       "1    14.078868  \n",
       "2    14.261570  \n",
       "3    15.347562  \n",
       "4    14.422570  \n",
       "..         ...  \n",
       "436   9.374795  \n",
       "437   7.636603  \n",
       "438  14.622497  \n",
       "439  11.014532  \n",
       "440  16.902573  \n",
       "\n",
       "[441 rows x 8 columns]"
      ]
     },
     "execution_count": 2,
     "metadata": {},
     "output_type": "execute_result"
    }
   ],
   "source": [
    "df = pd.read_csv('../Data/new_dataset.csv', index_col=0)\n",
    "df"
   ]
  },
  {
   "cell_type": "code",
   "execution_count": 3,
   "metadata": {},
   "outputs": [],
   "source": [
    "from sklearn.model_selection import train_test_split"
   ]
  },
  {
   "cell_type": "code",
   "execution_count": 4,
   "metadata": {},
   "outputs": [
    {
     "data": {
      "text/plain": [
       "(352, 89)"
      ]
     },
     "execution_count": 4,
     "metadata": {},
     "output_type": "execute_result"
    }
   ],
   "source": [
    "cols = df.columns.tolist()\n",
    "cols.remove('F')\n",
    "X_train, X_test, y_train, y_test = train_test_split(df[cols], df['F'], test_size=0.2, shuffle=True)\n",
    "\n",
    "len(X_train), len(X_test)"
   ]
  },
  {
   "cell_type": "code",
   "execution_count": 5,
   "metadata": {},
   "outputs": [
    {
     "data": {
      "image/png": "[encoded data removed]",
      "text/plain": [
       "<Figure size 1200x700 with 9 Axes>"
      ]
     },
     "metadata": {},
     "output_type": "display_data"
    }
   ],
   "source": [
    "X_train.hist(figsize=(12, 7), bins=25)\n",
    "None"
   ]
  },
  {
   "cell_type": "code",
   "execution_count": 6,
   "metadata": {},
   "outputs": [
    {
     "data": {
      "image/png": "[encoded data removed]",
      "text/plain": [
       "<Figure size 640x480 with 1 Axes>"
      ]
     },
     "metadata": {},
     "output_type": "display_data"
    }
   ],
   "source": [
    "y_train.hist(bins=25)\n",
    "None"
   ]
  },
  {
   "cell_type": "code",
   "execution_count": 7,
   "metadata": {},
   "outputs": [
    {
     "data": {
      "text/plain": [
       "(array([5.04106382e+04, 3.32160179e+04, 1.66660182e-01, 1.25645140e-01,\n",
       "        3.86229662e+01, 4.09674528e+03, 1.67740785e+00]),\n",
       " array([2.96695866e+07, 4.26211386e+06, 1.71126105e-04, 1.02451160e-04,\n",
       "        5.13548742e+00, 7.02004102e+03, 1.71045934e-05]))"
      ]
     },
     "execution_count": 7,
     "metadata": {},
     "output_type": "execute_result"
    }
   ],
   "source": [
    "from sklearn.preprocessing import StandardScaler\n",
    "\n",
    "scaler = StandardScaler()\n",
    "scaled_train = scaler.fit_transform(X_train.values.astype(np.float32))\n",
    "scaled_test = scaler.transform(X_test.values.astype(np.float32))\n",
    "\n",
    "scaler.mean_, scaler.var_"
   ]
  },
  {
   "cell_type": "markdown",
   "metadata": {},
   "source": [
    "## Datasets & Dataloaders"
   ]
  },
  {
   "cell_type": "code",
   "execution_count": 8,
   "metadata": {},
   "outputs": [],
   "source": [
    "from torch.utils.data import Dataset, DataLoader\n",
    "import torch"
   ]
  },
  {
   "cell_type": "code",
   "execution_count": 9,
   "metadata": {},
   "outputs": [],
   "source": [
    "class RosneftDataset(Dataset):\n",
    "\n",
    "    def __init__(self, X, y) -> None:\n",
    "        self.X = X\n",
    "        self.y = y\n",
    "\n",
    "    def __getitem__(self, idx):\n",
    "        return torch.tensor(self.X[idx]), torch.tensor(self.y[idx]).unsqueeze(0)\n",
    "\n",
    "    def __len__(self):\n",
    "        return len(self.y)"
   ]
  },
  {
   "cell_type": "code",
   "execution_count": 10,
   "metadata": {},
   "outputs": [],
   "source": [
    "train_dataset = RosneftDataset(scaled_train, y_train.values.astype(np.float32))\n",
    "test_dataset = RosneftDataset(scaled_test, y_test.values.astype(np.float32))\n",
    "\n",
    "train_dataloader = DataLoader(train_dataset, batch_size=8, shuffle=True)\n",
    "test_dataloader = DataLoader(test_dataset, batch_size=8, shuffle=True)"
   ]
  },
  {
   "cell_type": "markdown",
   "metadata": {},
   "source": [
    "## Model architecture"
   ]
  },
  {
   "cell_type": "code",
   "execution_count": 11,
   "metadata": {},
   "outputs": [],
   "source": [
    "import torch.nn as nn"
   ]
  },
  {
   "cell_type": "code",
   "execution_count": 12,
   "metadata": {},
   "outputs": [],
   "source": [
    "class RosneftMLP(nn.Module):\n",
    "\n",
    "    def __init__(self, hidden_size=10) -> None:\n",
    "        super().__init__()\n",
    "\n",
    "        self.hidden_size = hidden_size\n",
    "\n",
    "        self.linear = nn.Sequential(\n",
    "            nn.Linear(in_features=7, out_features=hidden_size),\n",
    "            nn.ReLU(),\n",
    "            nn.Linear(in_features=hidden_size, out_features=1),\n",
    "        )\n",
    "\n",
    "    def forward(self, x):\n",
    "        # input x: [BATCH_SIZE x 7]\n",
    "        return self.linear(x)"
   ]
  },
  {
   "cell_type": "code",
   "execution_count": 13,
   "metadata": {},
   "outputs": [
    {
     "data": {
      "text/plain": [
       "device(type='cpu')"
      ]
     },
     "execution_count": 13,
     "metadata": {},
     "output_type": "execute_result"
    }
   ],
   "source": [
    "device = torch.device('cuda' if torch.cuda.is_available() else 'cpu')\n",
    "device"
   ]
  },
  {
   "cell_type": "code",
   "execution_count": 14,
   "metadata": {},
   "outputs": [],
   "source": [
    "losses = None\n",
    "\n",
    "\n",
    "def train(model, criterion, optimizer, epoches, tr_loader, val_loader):\n",
    "    global losses\n",
    "    losses = {\n",
    "        'train': [],\n",
    "        'val': [],\n",
    "    }\n",
    "    \n",
    "    for epoch in range(epoches):\n",
    "\n",
    "        # train\n",
    "        model.train()\n",
    "        train_loss = 0\n",
    "\n",
    "        for X_batch, y_batch in tr_loader:\n",
    "            X_batch_cuda = X_batch.to(device)\n",
    "\n",
    "            optimizer.zero_grad()\n",
    "            y_pred = model(X_batch_cuda)\n",
    "            loss = criterion(y_batch.to(device), y_pred)\n",
    "            loss.backward()\n",
    "            optimizer.step()\n",
    "\n",
    "            train_loss += loss.item()**0.5\n",
    "        \n",
    "        losses['train'].append(train_loss / len(tr_loader))\n",
    "        \n",
    "        # val\n",
    "        model.eval()\n",
    "        val_loss = 0\n",
    "\n",
    "        for X_batch, y_batch in val_loader:\n",
    "            X_batch_cuda = X_batch.to(device)\n",
    "\n",
    "            with torch.no_grad():\n",
    "                y_pred = model(X_batch_cuda)\n",
    "                loss = criterion(y_batch.to(device), y_pred)\n",
    "\n",
    "            val_loss += loss.item()**0.5\n",
    "        \n",
    "        losses['val'].append(val_loss / len(val_loader))\n",
    "\n",
    "        # show epoch results\n",
    "        print(f'Epoch: {epoch+1}/{epoches}; Train loss: {losses[\"train\"][-1]}; Val loss: {losses[\"val\"][-1]}')"
   ]
  },
  {
   "cell_type": "code",
   "execution_count": 15,
   "metadata": {},
   "outputs": [],
   "source": [
    "model = RosneftMLP().to(device)\n",
    "\n",
    "epoches = 72\n",
    "criterion = nn.MSELoss()\n",
    "optimizer = torch.optim.Adam(model.parameters(), lr=1e-3)"
   ]
  },
  {
   "cell_type": "code",
   "execution_count": 16,
   "metadata": {},
   "outputs": [
    {
     "name": "stdout",
     "output_type": "stream",
     "text": [
      "Epoch: 1/72; Train loss: 13.164975885071993; Val loss: 13.560774355261268\n",
      "Epoch: 2/72; Train loss: 12.95177281929287; Val loss: 12.781034196810372\n",
      "Epoch: 3/72; Train loss: 12.727287537741786; Val loss: 12.726808083449148\n",
      "Epoch: 4/72; Train loss: 12.473951226663639; Val loss: 12.480918459251257\n",
      "Epoch: 5/72; Train loss: 12.163125630231082; Val loss: 12.208877064362277\n",
      "Epoch: 6/72; Train loss: 11.784492677428524; Val loss: 11.919697255524909\n",
      "Epoch: 7/72; Train loss: 11.330375654564735; Val loss: 11.328524743798042\n",
      "Epoch: 8/72; Train loss: 10.800448907117714; Val loss: 10.51991077694086\n",
      "Epoch: 9/72; Train loss: 10.199640587968151; Val loss: 9.703353914743165\n",
      "Epoch: 10/72; Train loss: 9.536617278208675; Val loss: 9.118039573752592\n",
      "Epoch: 11/72; Train loss: 8.830373218784901; Val loss: 8.099097625954712\n",
      "Epoch: 12/72; Train loss: 8.11120044089143; Val loss: 7.528191614795858\n",
      "Epoch: 13/72; Train loss: 7.418966820700984; Val loss: 6.883662550039457\n",
      "Epoch: 14/72; Train loss: 6.751421744358803; Val loss: 6.281959192244386\n",
      "Epoch: 15/72; Train loss: 6.120387357924713; Val loss: 5.192830921096328\n",
      "Epoch: 16/72; Train loss: 5.581894572128522; Val loss: 4.8678668637964755\n",
      "Epoch: 17/72; Train loss: 5.115617301838028; Val loss: 4.493314452641289\n",
      "Epoch: 18/72; Train loss: 4.720248887689907; Val loss: 4.067834976595977\n",
      "Epoch: 19/72; Train loss: 4.353288655678512; Val loss: 3.9262094321213206\n",
      "Epoch: 20/72; Train loss: 4.10993991575716; Val loss: 3.6975283705475555\n",
      "Epoch: 21/72; Train loss: 3.8589519573994946; Val loss: 3.364126975808071\n",
      "Epoch: 22/72; Train loss: 3.6452903707363755; Val loss: 3.365736411162084\n",
      "Epoch: 23/72; Train loss: 3.455414899658393; Val loss: 3.1805892299125422\n",
      "Epoch: 24/72; Train loss: 3.3038749803546823; Val loss: 2.945396871811844\n",
      "Epoch: 25/72; Train loss: 3.169368217196815; Val loss: 3.068678336274141\n",
      "Epoch: 26/72; Train loss: 3.017416779235335; Val loss: 2.7526262248696516\n",
      "Epoch: 27/72; Train loss: 2.9002022356816317; Val loss: 3.0295965282000155\n",
      "Epoch: 28/72; Train loss: 2.8051493634620073; Val loss: 2.68449830450704\n",
      "Epoch: 29/72; Train loss: 2.7021100452398965; Val loss: 2.6612445786099816\n",
      "Epoch: 30/72; Train loss: 2.6098429545049617; Val loss: 2.5750142644088796\n",
      "Epoch: 31/72; Train loss: 2.5374870094027155; Val loss: 2.3739933503657134\n",
      "Epoch: 32/72; Train loss: 2.4684889364776192; Val loss: 2.3808216093966412\n",
      "Epoch: 33/72; Train loss: 2.3940592058657275; Val loss: 2.2612637787761147\n",
      "Epoch: 34/72; Train loss: 2.3245112408177677; Val loss: 2.4134424424333525\n",
      "Epoch: 35/72; Train loss: 2.2705757918441254; Val loss: 2.1075165168646244\n",
      "Epoch: 36/72; Train loss: 2.195685693049122; Val loss: 2.1148913023973432\n",
      "Epoch: 37/72; Train loss: 2.152233824578653; Val loss: 2.0684954006744625\n",
      "Epoch: 38/72; Train loss: 2.1108727721524656; Val loss: 2.014888103134344\n",
      "Epoch: 39/72; Train loss: 2.022757933915283; Val loss: 2.140227747974176\n",
      "Epoch: 40/72; Train loss: 1.9879603874488654; Val loss: 2.0682707388226276\n",
      "Epoch: 41/72; Train loss: 1.9415174006027507; Val loss: 1.892750877691979\n",
      "Epoch: 42/72; Train loss: 1.8968648540843047; Val loss: 1.8946101851253296\n",
      "Epoch: 43/72; Train loss: 1.8406556612391085; Val loss: 1.931362488376349\n",
      "Epoch: 44/72; Train loss: 1.7885790145038956; Val loss: 1.7826185112649522\n",
      "Epoch: 45/72; Train loss: 1.738456323903353; Val loss: 1.7803052621601365\n",
      "Epoch: 46/72; Train loss: 1.7304009265883167; Val loss: 1.7538181268045643\n",
      "Epoch: 47/72; Train loss: 1.6737957865896538; Val loss: 1.6891717900581618\n",
      "Epoch: 48/72; Train loss: 1.6611973897115504; Val loss: 1.7246606127030513\n",
      "Epoch: 49/72; Train loss: 1.6311675147143836; Val loss: 1.8563842416607823\n",
      "Epoch: 50/72; Train loss: 1.6114890572330944; Val loss: 1.6772414750759512\n",
      "Epoch: 51/72; Train loss: 1.573759895988291; Val loss: 1.637366568746403\n",
      "Epoch: 52/72; Train loss: 1.5636489336896304; Val loss: 1.7427615652147548\n",
      "Epoch: 53/72; Train loss: 1.5267614155965932; Val loss: 1.651497905333655\n",
      "Epoch: 54/72; Train loss: 1.5262949926186709; Val loss: 1.5875666705542821\n",
      "Epoch: 55/72; Train loss: 1.4773168930299518; Val loss: 1.6984296304315036\n",
      "Epoch: 56/72; Train loss: 1.4567719794727196; Val loss: 1.5754760849747844\n",
      "Epoch: 57/72; Train loss: 1.4501645284928621; Val loss: 1.6156952691329645\n",
      "Epoch: 58/72; Train loss: 1.4435244736406878; Val loss: 1.4840101004102237\n",
      "Epoch: 59/72; Train loss: 1.4379707003937252; Val loss: 1.5703637755073696\n",
      "Epoch: 60/72; Train loss: 1.41438756692886; Val loss: 1.4466701874529067\n",
      "Epoch: 61/72; Train loss: 1.3929756254791956; Val loss: 1.5029083238193783\n",
      "Epoch: 62/72; Train loss: 1.3864479697585634; Val loss: 1.4929499998298044\n",
      "Epoch: 63/72; Train loss: 1.3671869274253945; Val loss: 1.515478325372297\n",
      "Epoch: 64/72; Train loss: 1.356643118931442; Val loss: 1.3583481526383177\n",
      "Epoch: 65/72; Train loss: 1.3525965445237398; Val loss: 1.4526952903245436\n",
      "Epoch: 66/72; Train loss: 1.347702294516358; Val loss: 1.4931475400181033\n",
      "Epoch: 67/72; Train loss: 1.3242144716080526; Val loss: 1.371897247485297\n",
      "Epoch: 68/72; Train loss: 1.3192251954686405; Val loss: 1.486945542031645\n",
      "Epoch: 69/72; Train loss: 1.337646483682955; Val loss: 1.3915382282043947\n",
      "Epoch: 70/72; Train loss: 1.314640441291651; Val loss: 1.3410925347787572\n",
      "Epoch: 71/72; Train loss: 1.3012125198139257; Val loss: 1.435875543208928\n",
      "Epoch: 72/72; Train loss: 1.3053049917108828; Val loss: 1.4653619372604145\n"
     ]
    }
   ],
   "source": [
    "train(model, criterion, optimizer, epoches, train_dataloader, test_dataloader)"
   ]
  },
  {
   "cell_type": "code",
   "execution_count": 17,
   "metadata": {},
   "outputs": [
    {
     "data": {
      "text/plain": [
       "<matplotlib.legend.Legend at 0x242b79b4580>"
      ]
     },
     "execution_count": 17,
     "metadata": {},
     "output_type": "execute_result"
    },
    {
     "data": {
      "image/png": "[encoded data removed]",
      "text/plain": [
       "<Figure size 640x480 with 1 Axes>"
      ]
     },
     "metadata": {},
     "output_type": "display_data"
    }
   ],
   "source": [
    "sk = 0 # skip\n",
    "epoches_range = list(range(sk + 1, len(losses['train']) + 1))\n",
    "\n",
    "plt.plot(epoches_range, losses['train'][sk:], label='train')\n",
    "plt.plot(epoches_range, losses['val'][sk:], label='val')\n",
    "plt.legend()"
   ]
  },
  {
   "cell_type": "markdown",
   "metadata": {},
   "source": [
    "## Estimation"
   ]
  },
  {
   "cell_type": "code",
   "execution_count": 18,
   "metadata": {},
   "outputs": [
    {
     "data": {
      "text/plain": [
       "1.5425590414893564"
      ]
     },
     "execution_count": 18,
     "metadata": {},
     "output_type": "execute_result"
    }
   ],
   "source": [
    "from sklearn.metrics import mean_squared_error\n",
    "\n",
    "\n",
    "pred = model(torch.tensor(scaled_test).to(device)).cpu().detach().numpy()\n",
    "mse = mean_squared_error(y_test, pred)\n",
    "mse**0.5"
   ]
  },
  {
   "cell_type": "markdown",
   "metadata": {},
   "source": [
    "## Tests"
   ]
  },
  {
   "cell_type": "code",
   "execution_count": 19,
   "metadata": {},
   "outputs": [
    {
     "name": "stdout",
     "output_type": "stream",
     "text": [
      "ground truth:\n",
      "tensor([[10.7850],\n",
      "        [ 9.1871],\n",
      "        [13.8736],\n",
      "        [17.6170],\n",
      "        [10.2801],\n",
      "        [13.8323],\n",
      "        [15.4833],\n",
      "        [16.3032]])\n",
      "prediction:\n",
      "tensor([[10.2283],\n",
      "        [ 8.8783],\n",
      "        [11.1583],\n",
      "        [17.0917],\n",
      "        [10.0294],\n",
      "        [14.0606],\n",
      "        [15.0093],\n",
      "        [16.1854]])\n"
     ]
    }
   ],
   "source": [
    "X_batch, y_batch = next(iter(test_dataloader))\n",
    "model.eval()\n",
    "\n",
    "with torch.no_grad():\n",
    "    y_pred = model(X_batch.to(device))\n",
    "\n",
    "\n",
    "print('ground truth:')\n",
    "print(y_batch)\n",
    "print('prediction:')\n",
    "print(y_pred)"
   ]
  },
  {
   "cell_type": "markdown",
   "metadata": {},
   "source": [
    "## Saving"
   ]
  },
  {
   "cell_type": "code",
   "execution_count": 20,
   "metadata": {},
   "outputs": [],
   "source": [
    "torch.save(model.state_dict(), 'nn_weights.saved')"
   ]
  },
  {
   "cell_type": "code",
   "execution_count": null,
   "metadata": {},
   "outputs": [],
   "source": []
  }
 ],
 "metadata": {
  "kernelspec": {
   "display_name": "base",
   "language": "python",
   "name": "python3"
  },
  "language_info": {
   "codemirror_mode": {
    "name": "ipython",
    "version": 3
   },
   "file_extension": ".py",
   "mimetype": "text/x-python",
   "name": "python",
   "nbconvert_exporter": "python",
   "pygments_lexer": "ipython3",
   "version": "3.9.13"
  },
  "orig_nbformat": 4
 },
 "nbformat": 4,
 "nbformat_minor": 2
}
